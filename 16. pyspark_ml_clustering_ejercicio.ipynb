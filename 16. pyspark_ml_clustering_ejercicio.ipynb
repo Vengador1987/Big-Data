{
 "cells": [
  {
   "cell_type": "code",
   "execution_count": null,
   "metadata": {
    "_cell_guid": "b1076dfc-b9ad-4769-8c92-a6c4dae69d19",
    "_uuid": "8f2839f25d086af736a60e9eeb907d3b93b6e0e5",
    "execution": {
     "iopub.execute_input": "2021-11-30T16:23:30.186014Z",
     "iopub.status.busy": "2021-11-30T16:23:30.185710Z",
     "iopub.status.idle": "2021-11-30T16:23:38.932923Z",
     "shell.execute_reply": "2021-11-30T16:23:38.932015Z",
     "shell.execute_reply.started": "2021-11-30T16:23:30.185984Z"
    }
   },
   "outputs": [],
   "source": [
    "!pip install pyspark"
   ]
  },
  {
   "cell_type": "code",
   "execution_count": null,
   "metadata": {
    "execution": {
     "iopub.execute_input": "2021-11-30T16:23:38.935911Z",
     "iopub.status.busy": "2021-11-30T16:23:38.935659Z",
     "iopub.status.idle": "2021-11-30T16:23:38.940893Z",
     "shell.execute_reply": "2021-11-30T16:23:38.940201Z",
     "shell.execute_reply.started": "2021-11-30T16:23:38.935882Z"
    }
   },
   "outputs": [],
   "source": [
    "from pyspark.sql import SparkSession\n",
    "\n",
    "spark = SparkSession.builder.appName(\"Clustering\").getOrCreate()"
   ]
  },
  {
   "cell_type": "code",
   "execution_count": null,
   "metadata": {
    "execution": {
     "iopub.execute_input": "2021-11-30T16:59:36.136392Z",
     "iopub.status.busy": "2021-11-30T16:59:36.136093Z",
     "iopub.status.idle": "2021-11-30T16:59:37.116123Z",
     "shell.execute_reply": "2021-11-30T16:59:37.115377Z",
     "shell.execute_reply.started": "2021-11-30T16:59:36.136362Z"
    }
   },
   "outputs": [],
   "source": [
    "data = spark.read.csv(path = \"/kaggle/input/ecommerce-data\",\n",
    "                      header = True, inferSchema = True)"
   ]
  },
  {
   "cell_type": "code",
   "execution_count": null,
   "metadata": {
    "execution": {
     "iopub.execute_input": "2021-11-30T16:23:40.368844Z",
     "iopub.status.busy": "2021-11-30T16:23:40.368545Z",
     "iopub.status.idle": "2021-11-30T16:23:40.546333Z",
     "shell.execute_reply": "2021-11-30T16:23:40.545279Z",
     "shell.execute_reply.started": "2021-11-30T16:23:40.368804Z"
    }
   },
   "outputs": [],
   "source": [
    "data.show()"
   ]
  },
  {
   "cell_type": "code",
   "execution_count": null,
   "metadata": {},
   "outputs": [],
   "source": []
  },
  {
   "cell_type": "code",
   "execution_count": null,
   "metadata": {},
   "outputs": [],
   "source": []
  },
  {
   "cell_type": "code",
   "execution_count": null,
   "metadata": {},
   "outputs": [],
   "source": []
  },
  {
   "cell_type": "code",
   "execution_count": null,
   "metadata": {},
   "outputs": [],
   "source": []
  },
  {
   "cell_type": "code",
   "execution_count": null,
   "metadata": {},
   "outputs": [],
   "source": []
  },
  {
   "cell_type": "code",
   "execution_count": null,
   "metadata": {},
   "outputs": [],
   "source": []
  },
  {
   "cell_type": "code",
   "execution_count": null,
   "metadata": {},
   "outputs": [],
   "source": []
  }
 ],
 "metadata": {
  "kernelspec": {
   "display_name": "Python 3",
   "language": "python",
   "name": "python3"
  },
  "language_info": {
   "codemirror_mode": {
    "name": "ipython",
    "version": 3
   },
   "file_extension": ".py",
   "mimetype": "text/x-python",
   "name": "python",
   "nbconvert_exporter": "python",
   "pygments_lexer": "ipython3",
   "version": "3.8.8"
  }
 },
 "nbformat": 4,
 "nbformat_minor": 4
}
