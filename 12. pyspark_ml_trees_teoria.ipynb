{
 "cells": [
  {
   "cell_type": "code",
   "execution_count": 1,
   "metadata": {
    "_cell_guid": "b1076dfc-b9ad-4769-8c92-a6c4dae69d19",
    "_uuid": "8f2839f25d086af736a60e9eeb907d3b93b6e0e5",
    "execution": {
     "iopub.execute_input": "2021-11-29T15:32:16.435025Z",
     "iopub.status.busy": "2021-11-29T15:32:16.433885Z",
     "iopub.status.idle": "2021-11-29T15:33:00.225733Z",
     "shell.execute_reply": "2021-11-29T15:33:00.224904Z",
     "shell.execute_reply.started": "2021-11-29T15:32:16.434876Z"
    }
   },
   "outputs": [],
   "source": [
    "!pip install pyspark"
   ]
  },
  {
   "cell_type": "code",
   "execution_count": 2,
   "metadata": {
    "execution": {
     "iopub.execute_input": "2021-11-29T15:33:00.228206Z",
     "iopub.status.busy": "2021-11-29T15:33:00.227952Z",
     "iopub.status.idle": "2021-11-29T15:33:06.135100Z",
     "shell.execute_reply": "2021-11-29T15:33:06.134024Z",
     "shell.execute_reply.started": "2021-11-29T15:33:00.228175Z"
    }
   },
   "outputs": [],
   "source": [
    "from pyspark.sql import SparkSession\n",
    "spark = SparkSession.builder.appName(\"Trees\").getOrCreate()"
   ]
  },
  {
   "cell_type": "code",
   "execution_count": 3,
   "metadata": {
    "execution": {
     "iopub.execute_input": "2021-11-29T15:33:06.137074Z",
     "iopub.status.busy": "2021-11-29T15:33:06.136740Z",
     "iopub.status.idle": "2021-11-29T15:33:11.898411Z",
     "shell.execute_reply": "2021-11-29T15:33:11.897753Z",
     "shell.execute_reply.started": "2021-11-29T15:33:06.137025Z"
    }
   },
   "outputs": [],
   "source": [
    "data = spark.read.format(\"libsvm\").load(\"/kaggle/input/pyspark-ml-trees/sample_libsvm_data.txt\")\n",
    "\n",
    "data.show()"
   ]
  },
  {
   "cell_type": "code",
   "execution_count": 4,
   "metadata": {
    "execution": {
     "iopub.execute_input": "2021-11-29T15:33:11.899458Z",
     "iopub.status.busy": "2021-11-29T15:33:11.899259Z",
     "iopub.status.idle": "2021-11-29T15:33:11.914177Z",
     "shell.execute_reply": "2021-11-29T15:33:11.913568Z",
     "shell.execute_reply.started": "2021-11-29T15:33:11.899433Z"
    }
   },
   "outputs": [],
   "source": [
    "data.printSchema()"
   ]
  },
  {
   "cell_type": "code",
   "execution_count": 5,
   "metadata": {
    "execution": {
     "iopub.execute_input": "2021-11-29T15:33:11.916315Z",
     "iopub.status.busy": "2021-11-29T15:33:11.916053Z",
     "iopub.status.idle": "2021-11-29T15:33:11.980926Z",
     "shell.execute_reply": "2021-11-29T15:33:11.980165Z",
     "shell.execute_reply.started": "2021-11-29T15:33:11.916280Z"
    }
   },
   "outputs": [],
   "source": [
    "train, test = data.randomSplit(weights = [0.7, 0.3], seed = 42)"
   ]
  },
  {
   "cell_type": "markdown",
   "metadata": {},
   "source": [
    "## `DecisionTreeClassifier`"
   ]
  },
  {
   "cell_type": "code",
   "execution_count": 6,
   "metadata": {
    "execution": {
     "iopub.execute_input": "2021-11-29T15:33:11.982020Z",
     "iopub.status.busy": "2021-11-29T15:33:11.981766Z",
     "iopub.status.idle": "2021-11-29T15:33:16.250816Z",
     "shell.execute_reply": "2021-11-29T15:33:16.247763Z",
     "shell.execute_reply.started": "2021-11-29T15:33:11.981985Z"
    }
   },
   "outputs": [],
   "source": [
    "from pyspark.ml.classification import DecisionTreeClassifier\n",
    "\n",
    "dtc = DecisionTreeClassifier(featuresCol = \"features\",\n",
    "                             labelCol = \"label\",\n",
    "                             predictionCol = \"prediction\", \n",
    "                             maxDepth = 10)\n",
    "\n",
    "model = dtc.fit(train)\n",
    "\n",
    "y_hat = model.transform(test)\n",
    "\n",
    "y_hat.show(10)"
   ]
  },
  {
   "cell_type": "code",
   "execution_count": 7,
   "metadata": {
    "execution": {
     "iopub.execute_input": "2021-11-29T15:33:16.252735Z",
     "iopub.status.busy": "2021-11-29T15:33:16.252221Z",
     "iopub.status.idle": "2021-11-29T15:33:16.687489Z",
     "shell.execute_reply": "2021-11-29T15:33:16.686564Z",
     "shell.execute_reply.started": "2021-11-29T15:33:16.252685Z"
    }
   },
   "outputs": [],
   "source": [
    "from pyspark.ml.evaluation import MulticlassClassificationEvaluator\n",
    "\n",
    "evaluator = MulticlassClassificationEvaluator(labelCol = \"label\",\n",
    "                                              predictionCol = \"prediction\",\n",
    "                                              metricName = \"accuracy\")\n",
    "\n",
    "accuracy = evaluator.evaluate(y_hat)\n",
    "\n",
    "print(accuracy)"
   ]
  },
  {
   "cell_type": "markdown",
   "metadata": {},
   "source": [
    "## `RandomForestClassifier`"
   ]
  },
  {
   "cell_type": "code",
   "execution_count": 8,
   "metadata": {
    "execution": {
     "iopub.execute_input": "2021-11-29T15:33:16.689131Z",
     "iopub.status.busy": "2021-11-29T15:33:16.688859Z",
     "iopub.status.idle": "2021-11-29T15:33:19.284743Z",
     "shell.execute_reply": "2021-11-29T15:33:19.283788Z",
     "shell.execute_reply.started": "2021-11-29T15:33:16.689096Z"
    }
   },
   "outputs": [],
   "source": [
    "from pyspark.ml.classification import RandomForestClassifier\n",
    "\n",
    "rfc = RandomForestClassifier(featuresCol = \"features\",\n",
    "                             labelCol = \"label\",\n",
    "                             predictionCol = \"prediction\",\n",
    "                             numTrees = 100)\n",
    "\n",
    "model = rfc.fit(train)\n",
    "\n",
    "y_hat = model.transform(test)\n",
    "\n",
    "y_hat.show(10)"
   ]
  },
  {
   "cell_type": "code",
   "execution_count": 9,
   "metadata": {
    "execution": {
     "iopub.execute_input": "2021-11-29T15:33:19.286431Z",
     "iopub.status.busy": "2021-11-29T15:33:19.286122Z",
     "iopub.status.idle": "2021-11-29T15:33:19.587530Z",
     "shell.execute_reply": "2021-11-29T15:33:19.586609Z",
     "shell.execute_reply.started": "2021-11-29T15:33:19.286390Z"
    }
   },
   "outputs": [],
   "source": [
    "evaluator = MulticlassClassificationEvaluator(labelCol = \"label\",\n",
    "                                              predictionCol = \"prediction\",\n",
    "                                              metricName = \"accuracy\")\n",
    "\n",
    "accuracy = evaluator.evaluate(y_hat)\n",
    "\n",
    "print(accuracy)"
   ]
  },
  {
   "cell_type": "markdown",
   "metadata": {
    "execution": {
     "iopub.execute_input": "2021-11-29T11:55:51.724100Z",
     "iopub.status.busy": "2021-11-29T11:55:51.723145Z",
     "iopub.status.idle": "2021-11-29T11:55:51.727678Z",
     "shell.execute_reply": "2021-11-29T11:55:51.726939Z",
     "shell.execute_reply.started": "2021-11-29T11:55:51.724044Z"
    }
   },
   "source": [
    "## `GradientBoostingClassifier`"
   ]
  },
  {
   "cell_type": "code",
   "execution_count": 10,
   "metadata": {
    "execution": {
     "iopub.execute_input": "2021-11-29T15:33:19.589026Z",
     "iopub.status.busy": "2021-11-29T15:33:19.588766Z",
     "iopub.status.idle": "2021-11-29T15:33:37.935201Z",
     "shell.execute_reply": "2021-11-29T15:33:37.932325Z",
     "shell.execute_reply.started": "2021-11-29T15:33:19.588987Z"
    }
   },
   "outputs": [],
   "source": [
    "from pyspark.ml.classification import GBTClassifier\n",
    "\n",
    "gbt = GBTClassifier(featuresCol = \"features\",\n",
    "                    labelCol = \"label\",\n",
    "                    predictionCol = \"prediction\", \n",
    "                    maxIter = 100)\n",
    "\n",
    "model = gbt.fit(train)\n",
    "\n",
    "y_hat = model.transform(test)\n",
    "\n",
    "y_hat.show(10)"
   ]
  },
  {
   "cell_type": "code",
   "execution_count": 11,
   "metadata": {
    "execution": {
     "iopub.execute_input": "2021-11-29T15:33:37.939870Z",
     "iopub.status.busy": "2021-11-29T15:33:37.936777Z",
     "iopub.status.idle": "2021-11-29T15:33:38.137265Z",
     "shell.execute_reply": "2021-11-29T15:33:38.136276Z",
     "shell.execute_reply.started": "2021-11-29T15:33:37.939822Z"
    }
   },
   "outputs": [],
   "source": [
    "evaluator = MulticlassClassificationEvaluator(labelCol = \"label\",\n",
    "                                              predictionCol = \"prediction\",\n",
    "                                              metricName = \"accuracy\")\n",
    "\n",
    "accuracy = evaluator.evaluate(y_hat)\n",
    "\n",
    "print(accuracy)"
   ]
  },
  {
   "cell_type": "code",
   "execution_count": null,
   "metadata": {},
   "outputs": [],
   "source": [
    "################################################################################################################################"
   ]
  }
 ],
 "metadata": {
  "kernelspec": {
   "display_name": "Python 3",
   "language": "python",
   "name": "python3"
  },
  "language_info": {
   "codemirror_mode": {
    "name": "ipython",
    "version": 3
   },
   "file_extension": ".py",
   "mimetype": "text/x-python",
   "name": "python",
   "nbconvert_exporter": "python",
   "pygments_lexer": "ipython3",
   "version": "3.8.8"
  }
 },
 "nbformat": 4,
 "nbformat_minor": 4
}
